{
 "cells": [
  {
   "cell_type": "code",
   "execution_count": 1,
   "metadata": {},
   "outputs": [],
   "source": [
    "import cv2\n",
    "import numpy as np\n",
    "import os\n",
    "from IPython.display import clear_output\n",
    "import matplotlib.pyplot as plt\n",
    "import csv\n",
    "import random\n",
    "import datetime"
   ]
  },
  {
   "cell_type": "code",
   "execution_count": 3,
   "metadata": {},
   "outputs": [],
   "source": [
    "original_cell_folder = \"/home/ubuntu/github/HSYAA_GT/IM_with_GT/BC8_good_BW\"\n",
    "threshold_cell_folder = \"/home/ubuntu/github/HSYAA_GT/IM_with_GT/BC8_good_gray\"\n",
    "trap_folder_format = \"Trap%.3d/\"\n",
    "output_folder = \"output_folder/Beacon-8/\"\n",
    "output_image_folder = \"output_folder/Beacon-8/output_images/\"\n",
    "output_image_format = \"BC%.1d_Tp%.3dTm%.3d.jpg\"\n",
    "output_file = \"training_data\" + str(datetime.datetime.now()) + \".csv\"\n",
    "output_file_folder = output_folder + output_file\n",
    "start = 1\n",
    "end = 391\n",
    "number_of_verified = 2 # change this number to the images you want to go to.\n",
    "\n",
    "traps = [o[-3:] for o in os.listdir(original_cell_folder) if os.path.isdir(os.path.join(original_cell_folder,o))]\n",
    "traps.sort()\n",
    "\n",
    "beacon = 8\n",
    "\n",
    "filename_format = \"rf02032017_TL1444143_BC%.1d_Tp%.3dTm%.3d.jpg\"\n",
    "#filename_format = \"%.3d.jpg\"\n",
    "headers = ['beacon_num', 'trap_num' , 'time_num', 'total_objs_original','total_objs_threshold', 'total_objs_error']\n",
    "#'obj_num', 'obj_X' , 'obj_Y','area'"
   ]
  },
  {
   "cell_type": "code",
   "execution_count": 7,
   "metadata": {},
   "outputs": [
    {
     "name": "stdout",
     "output_type": "stream",
     "text": [
      "Saved output to output_folder/Beacon-8/training_data2020-05-29 14:34:52.867178.csv.\n"
     ]
    }
   ],
   "source": [
    "errors = []\n",
    "rows = []\n",
    "for trap in traps:\n",
    "    for n in range(start, end+1):\n",
    "\n",
    "        filename = filename_format % (beacon, int(trap), n)\n",
    "\n",
    "        clear_output(wait=True)\n",
    "\n",
    "        if len(errors) > 0:\n",
    "            for error in errors:\n",
    "                print(error)\n",
    "            errors = []\n",
    "\n",
    "        original_path = os.path.join(original_cell_folder + trap_folder_format % int(trap), filename)\n",
    "        threshold_path = os.path.join(threshold_cell_folder + trap_folder_format % int(trap), filename)\n",
    "\n",
    "        if not os.path.exists(threshold_path):\n",
    "            errors.append(filename + \" not found in threshold folder.\")\n",
    "            continue\n",
    "\n",
    "        original = cv2.imread(original_path)\n",
    "        threshold = cv2.imread(threshold_path)\n",
    "\n",
    "        if original is None or threshold is None:\n",
    "            if original is None:\n",
    "                errors.append(\"Original \" + filename + \" is empty.\")\n",
    "            if threshold is None:\n",
    "                errors.append(\"Threshold \" + filename + \" is empty.\")\n",
    "            continue\n",
    "\n",
    "        plt.figure(figsize=(15,10))\n",
    "        plot_image = np.concatenate((original, threshold), axis=1)\n",
    "        plt.imshow(plot_image)\n",
    "        plt.show()\n",
    "\n",
    "        cv2.imwrite(output_image_folder + output_image_format % (beacon, int(trap), n), plot_image)\n",
    "\n",
    "        print(f\"Trap {trap}, Time {n:03}\")\n",
    "        original_objects = input(\"# of objects in original image?\")\n",
    "        threshold_objects = input(\"# of objects in threshold image?\")\n",
    "\n",
    "        rows.append([beacon,trap,f\"{n:03}\", original_objects, threshold_objects, int(original_objects) - int(threshold_objects)])\n",
    "        #headers = ['Image path', 'image_num', 'trap_num' , 'time_num', 'total_objs']\n",
    "\n",
    "clear_output(wait=True)\n",
    "\n",
    "output_location = output_file_folder\n",
    "with open(output_location, 'w', newline='') as csvfile:\n",
    "    csvwriter = csv.writer(csvfile) \n",
    "    csvwriter.writerow(headers)  \n",
    "    for n in range(len(rows)):\n",
    "        csvwriter.writerow(rows[n])\n",
    "        \n",
    "print(f\"Saved output to {output_location}.\")"
   ]
  },
  {
   "cell_type": "code",
   "execution_count": 8,
   "metadata": {},
   "outputs": [
    {
     "name": "stdout",
     "output_type": "stream",
     "text": [
      "Saved output to output_folder/Beacon-8/training_data2020-05-29 14:34:52.867178.csv.\n"
     ]
    }
   ],
   "source": [
    "output_location = output_file_folder\n",
    "with open(output_location, 'w', newline='') as csvfile:\n",
    "    csvwriter = csv.writer(csvfile) \n",
    "    csvwriter.writerow(headers)  \n",
    "    for n in range(len(rows)):\n",
    "        csvwriter.writerow(rows[n])\n",
    "        \n",
    "print(f\"Saved output to {output_location}.\")"
   ]
  },
  {
   "cell_type": "code",
   "execution_count": null,
   "metadata": {},
   "outputs": [],
   "source": []
  }
 ],
 "metadata": {
  "kernelspec": {
   "display_name": "Python 3",
   "language": "python",
   "name": "python3"
  },
  "language_info": {
   "codemirror_mode": {
    "name": "ipython",
    "version": 3
   },
   "file_extension": ".py",
   "mimetype": "text/x-python",
   "name": "python",
   "nbconvert_exporter": "python",
   "pygments_lexer": "ipython3",
   "version": "3.7.3"
  }
 },
 "nbformat": 4,
 "nbformat_minor": 4
}
