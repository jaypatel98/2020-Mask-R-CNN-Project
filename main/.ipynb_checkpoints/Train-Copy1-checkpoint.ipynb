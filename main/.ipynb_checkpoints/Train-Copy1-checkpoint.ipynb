{
 "cells": [
  {
   "cell_type": "code",
   "execution_count": 1,
   "metadata": {},
   "outputs": [
    {
     "name": "stderr",
     "output_type": "stream",
     "text": [
      "Using TensorFlow backend.\n"
     ]
    }
   ],
   "source": [
    "import os\n",
    "import sys\n",
    "import itertools\n",
    "import math\n",
    "import logging\n",
    "import json\n",
    "import re\n",
    "import random\n",
    "from collections import OrderedDict\n",
    "import numpy as np\n",
    "import matplotlib\n",
    "import matplotlib.pyplot as plt\n",
    "import matplotlib.patches as patches\n",
    "import matplotlib.lines as lines\n",
    "from matplotlib.patches import Polygon\n",
    "\n",
    "# Root directory of the project\n",
    "ROOT_DIR = 'Mask_RCNN-master 3'\n",
    "\n",
    "# Import Mask RCNN\n",
    "sys.path.append(ROOT_DIR)  # To find local version of the library\n",
    "from mrcnn import utils\n",
    "from mrcnn import visualize\n",
    "from mrcnn.visualize import display_images\n",
    "import mrcnn.model as modellib\n",
    "from mrcnn.model import log\n",
    "\n",
    "import Cell"
   ]
  },
  {
   "cell_type": "code",
   "execution_count": 4,
   "metadata": {},
   "outputs": [
    {
     "ename": "AttributeError",
     "evalue": "module 'tensorflow' has no attribute 'verion'",
     "output_type": "error",
     "traceback": [
      "\u001b[0;31m---------------------------------------------------------------------------\u001b[0m",
      "\u001b[0;31mAttributeError\u001b[0m                            Traceback (most recent call last)",
      "\u001b[0;32m<ipython-input-4-7d9d46ff586c>\u001b[0m in \u001b[0;36m<module>\u001b[0;34m\u001b[0m\n\u001b[1;32m      1\u001b[0m \u001b[0;32mimport\u001b[0m \u001b[0mtensorflow\u001b[0m \u001b[0;32mas\u001b[0m \u001b[0mtf\u001b[0m\u001b[0;34m\u001b[0m\u001b[0;34m\u001b[0m\u001b[0m\n\u001b[0;32m----> 2\u001b[0;31m \u001b[0mprint\u001b[0m\u001b[0;34m(\u001b[0m\u001b[0mtf\u001b[0m\u001b[0;34m.\u001b[0m\u001b[0mverion\u001b[0m\u001b[0;34m)\u001b[0m\u001b[0;34m\u001b[0m\u001b[0;34m\u001b[0m\u001b[0m\n\u001b[0m",
      "\u001b[0;32m~/anaconda3/lib/python3.7/site-packages/tensorflow/python/util/deprecation_wrapper.py\u001b[0m in \u001b[0;36m__getattr__\u001b[0;34m(self, name)\u001b[0m\n\u001b[1;32m    104\u001b[0m     \u001b[0;32mif\u001b[0m \u001b[0mname\u001b[0m\u001b[0;34m.\u001b[0m\u001b[0mstartswith\u001b[0m\u001b[0;34m(\u001b[0m\u001b[0;34m'_dw_'\u001b[0m\u001b[0;34m)\u001b[0m\u001b[0;34m:\u001b[0m\u001b[0;34m\u001b[0m\u001b[0;34m\u001b[0m\u001b[0m\n\u001b[1;32m    105\u001b[0m       \u001b[0;32mraise\u001b[0m \u001b[0mAttributeError\u001b[0m\u001b[0;34m(\u001b[0m\u001b[0;34m'Accessing local variables before they are created.'\u001b[0m\u001b[0;34m)\u001b[0m\u001b[0;34m\u001b[0m\u001b[0;34m\u001b[0m\u001b[0m\n\u001b[0;32m--> 106\u001b[0;31m     \u001b[0mattr\u001b[0m \u001b[0;34m=\u001b[0m \u001b[0mgetattr\u001b[0m\u001b[0;34m(\u001b[0m\u001b[0mself\u001b[0m\u001b[0;34m.\u001b[0m\u001b[0m_dw_wrapped_module\u001b[0m\u001b[0;34m,\u001b[0m \u001b[0mname\u001b[0m\u001b[0;34m)\u001b[0m\u001b[0;34m\u001b[0m\u001b[0;34m\u001b[0m\u001b[0m\n\u001b[0m\u001b[1;32m    107\u001b[0m     if (self._dw_warning_count < _PER_MODULE_WARNING_LIMIT and\n\u001b[1;32m    108\u001b[0m         name not in self._dw_deprecated_printed):\n",
      "\u001b[0;31mAttributeError\u001b[0m: module 'tensorflow' has no attribute 'verion'"
     ]
    }
   ],
   "source": []
  },
  {
   "cell_type": "code",
   "execution_count": 2,
   "metadata": {},
   "outputs": [],
   "source": [
    "model_dir = \"../logs/\"\n",
    "model_file = \"coco.h5\"\n",
    "coco_path = os.path.abspath(model_dir + model_file)"
   ]
  },
  {
   "cell_type": "code",
   "execution_count": 3,
   "metadata": {},
   "outputs": [],
   "source": [
    "model_dir = \"../logs/\"\n",
    "model_file = \"coco.h5\"\n",
    "coco_path = os.path.abspath(model_dir + model_file)"
   ]
  },
  {
   "cell_type": "code",
   "execution_count": 4,
   "metadata": {},
   "outputs": [
    {
     "name": "stdout",
     "output_type": "stream",
     "text": [
      "WARNING:tensorflow:From /home/ubuntu/anaconda3/lib/python3.7/site-packages/keras/backend/tensorflow_backend.py:517: The name tf.placeholder is deprecated. Please use tf.compat.v1.placeholder instead.\n",
      "\n",
      "WARNING:tensorflow:From /home/ubuntu/anaconda3/lib/python3.7/site-packages/keras/backend/tensorflow_backend.py:74: The name tf.get_default_graph is deprecated. Please use tf.compat.v1.get_default_graph instead.\n",
      "\n",
      "WARNING:tensorflow:From /home/ubuntu/anaconda3/lib/python3.7/site-packages/keras/backend/tensorflow_backend.py:4138: The name tf.random_uniform is deprecated. Please use tf.random.uniform instead.\n",
      "\n",
      "WARNING:tensorflow:From /home/ubuntu/anaconda3/lib/python3.7/site-packages/keras/backend/tensorflow_backend.py:1919: The name tf.nn.fused_batch_norm is deprecated. Please use tf.compat.v1.nn.fused_batch_norm instead.\n",
      "\n",
      "WARNING:tensorflow:From /home/ubuntu/anaconda3/lib/python3.7/site-packages/keras/backend/tensorflow_backend.py:3976: The name tf.nn.max_pool is deprecated. Please use tf.nn.max_pool2d instead.\n",
      "\n",
      "WARNING:tensorflow:From /home/ubuntu/anaconda3/lib/python3.7/site-packages/keras/backend/tensorflow_backend.py:2018: The name tf.image.resize_nearest_neighbor is deprecated. Please use tf.compat.v1.image.resize_nearest_neighbor instead.\n",
      "\n",
      "WARNING:tensorflow:From /home/ubuntu/anaconda3/lib/python3.7/site-packages/tensorflow/python/ops/array_ops.py:1354: add_dispatch_support.<locals>.wrapper (from tensorflow.python.ops.array_ops) is deprecated and will be removed in a future version.\n",
      "Instructions for updating:\n",
      "Use tf.where in 2.0, which has the same broadcast rule as np.where\n",
      "WARNING:tensorflow:From Mask_RCNN-master 3/mrcnn/model.py:553: The name tf.random_shuffle is deprecated. Please use tf.random.shuffle instead.\n",
      "\n",
      "WARNING:tensorflow:From Mask_RCNN-master 3/mrcnn/utils.py:202: The name tf.log is deprecated. Please use tf.math.log instead.\n",
      "\n",
      "WARNING:tensorflow:From Mask_RCNN-master 3/mrcnn/model.py:600: calling crop_and_resize_v1 (from tensorflow.python.ops.image_ops_impl) with box_ind is deprecated and will be removed in a future version.\n",
      "Instructions for updating:\n",
      "box_ind is deprecated, use box_indices instead\n"
     ]
    }
   ],
   "source": [
    "model = modellib.MaskRCNN(mode=\"training\", config=Cell.config, model_dir=model_dir)"
   ]
  },
  {
   "cell_type": "code",
   "execution_count": 5,
   "metadata": {},
   "outputs": [],
   "source": [
    "if not os.path.exists(coco_path):\n",
    "    utils.download_trained_weights(coco_path)"
   ]
  },
  {
   "cell_type": "code",
   "execution_count": 6,
   "metadata": {},
   "outputs": [],
   "source": [
    "model.load_weights(coco_path, by_name=True, exclude=[\n",
    "            \"mrcnn_class_logits\", \"mrcnn_bbox_fc\",\n",
    "            \"mrcnn_bbox\", \"mrcnn_mask\"])"
   ]
  },
  {
   "cell_type": "code",
   "execution_count": 7,
   "metadata": {},
   "outputs": [
    {
     "name": "stdout",
     "output_type": "stream",
     "text": [
      "Training network heads\n",
      "\n",
      "Starting at epoch 0. LR=0.001\n",
      "\n",
      "Checkpoint Path: ../logs/cell20200529T1324/mask_rcnn_cell_{epoch:04d}.h5\n",
      "Selecting layers to train\n",
      "fpn_c5p5               (Conv2D)\n",
      "fpn_c4p4               (Conv2D)\n",
      "fpn_c3p3               (Conv2D)\n",
      "fpn_c2p2               (Conv2D)\n",
      "fpn_p5                 (Conv2D)\n",
      "fpn_p2                 (Conv2D)\n",
      "fpn_p3                 (Conv2D)\n",
      "fpn_p4                 (Conv2D)\n",
      "In model:  rpn_model\n",
      "    rpn_conv_shared        (Conv2D)\n",
      "    rpn_class_raw          (Conv2D)\n",
      "    rpn_bbox_pred          (Conv2D)\n",
      "mrcnn_mask_conv1       (TimeDistributed)\n",
      "mrcnn_mask_bn1         (TimeDistributed)\n",
      "mrcnn_mask_conv2       (TimeDistributed)\n",
      "mrcnn_mask_bn2         (TimeDistributed)\n",
      "mrcnn_class_conv1      (TimeDistributed)\n",
      "mrcnn_class_bn1        (TimeDistributed)\n",
      "mrcnn_mask_conv3       (TimeDistributed)\n",
      "mrcnn_mask_bn3         (TimeDistributed)\n",
      "mrcnn_class_conv2      (TimeDistributed)\n",
      "mrcnn_class_bn2        (TimeDistributed)\n",
      "mrcnn_mask_conv4       (TimeDistributed)\n",
      "mrcnn_mask_bn4         (TimeDistributed)\n",
      "mrcnn_bbox_fc          (TimeDistributed)\n",
      "mrcnn_mask_deconv      (TimeDistributed)\n",
      "mrcnn_class_logits     (TimeDistributed)\n",
      "mrcnn_mask             (TimeDistributed)\n",
      "WARNING:tensorflow:From /home/ubuntu/anaconda3/lib/python3.7/site-packages/keras/optimizers.py:790: The name tf.train.Optimizer is deprecated. Please use tf.compat.v1.train.Optimizer instead.\n",
      "\n"
     ]
    },
    {
     "name": "stderr",
     "output_type": "stream",
     "text": [
      "/home/ubuntu/anaconda3/lib/python3.7/site-packages/tensorflow/python/ops/gradients_util.py:93: UserWarning: Converting sparse IndexedSlices to a dense Tensor of unknown shape. This may consume a large amount of memory.\n",
      "  \"Converting sparse IndexedSlices to a dense Tensor of unknown shape. \"\n",
      "/home/ubuntu/anaconda3/lib/python3.7/site-packages/tensorflow/python/ops/gradients_util.py:93: UserWarning: Converting sparse IndexedSlices to a dense Tensor of unknown shape. This may consume a large amount of memory.\n",
      "  \"Converting sparse IndexedSlices to a dense Tensor of unknown shape. \"\n",
      "/home/ubuntu/anaconda3/lib/python3.7/site-packages/tensorflow/python/ops/gradients_util.py:93: UserWarning: Converting sparse IndexedSlices to a dense Tensor of unknown shape. This may consume a large amount of memory.\n",
      "  \"Converting sparse IndexedSlices to a dense Tensor of unknown shape. \"\n",
      "/home/ubuntu/anaconda3/lib/python3.7/site-packages/keras/engine/training_generator.py:47: UserWarning: Using a generator with `use_multiprocessing=True` and multiple workers may duplicate your data. Please consider using the`keras.utils.Sequence class.\n",
      "  UserWarning('Using a generator with `use_multiprocessing=True`'\n"
     ]
    },
    {
     "name": "stdout",
     "output_type": "stream",
     "text": [
      "WARNING:tensorflow:From /home/ubuntu/anaconda3/lib/python3.7/site-packages/keras/callbacks.py:850: The name tf.summary.merge_all is deprecated. Please use tf.compat.v1.summary.merge_all instead.\n",
      "\n",
      "WARNING:tensorflow:From /home/ubuntu/anaconda3/lib/python3.7/site-packages/keras/callbacks.py:853: The name tf.summary.FileWriter is deprecated. Please use tf.compat.v1.summary.FileWriter instead.\n",
      "\n",
      "Epoch 1/50\n",
      "50/50 [==============================] - 51s 1s/step - loss: 1.8281 - rpn_class_loss: 0.0210 - rpn_bbox_loss: 0.7169 - mrcnn_class_loss: 0.0826 - mrcnn_bbox_loss: 0.4626 - mrcnn_mask_loss: 0.5450 - val_loss: 1.6183 - val_rpn_class_loss: 0.0359 - val_rpn_bbox_loss: 0.6270 - val_mrcnn_class_loss: 0.0575 - val_mrcnn_bbox_loss: 0.4147 - val_mrcnn_mask_loss: 0.4833\n",
      "Epoch 2/50\n",
      "50/50 [==============================] - 32s 645ms/step - loss: 1.2629 - rpn_class_loss: 0.0202 - rpn_bbox_loss: 0.5408 - mrcnn_class_loss: 0.0668 - mrcnn_bbox_loss: 0.2629 - mrcnn_mask_loss: 0.3722 - val_loss: 1.9032 - val_rpn_class_loss: 0.0131 - val_rpn_bbox_loss: 1.0978 - val_mrcnn_class_loss: 0.0318 - val_mrcnn_bbox_loss: 0.4598 - val_mrcnn_mask_loss: 0.3007\n",
      "Epoch 3/50\n",
      "50/50 [==============================] - 29s 587ms/step - loss: 1.1343 - rpn_class_loss: 0.0174 - rpn_bbox_loss: 0.4647 - mrcnn_class_loss: 0.0684 - mrcnn_bbox_loss: 0.2176 - mrcnn_mask_loss: 0.3663 - val_loss: 1.2594 - val_rpn_class_loss: 0.0177 - val_rpn_bbox_loss: 0.5479 - val_mrcnn_class_loss: 0.0634 - val_mrcnn_bbox_loss: 0.2834 - val_mrcnn_mask_loss: 0.3469\n",
      "Epoch 4/50\n",
      "50/50 [==============================] - 30s 607ms/step - loss: 1.2095 - rpn_class_loss: 0.0225 - rpn_bbox_loss: 0.5814 - mrcnn_class_loss: 0.0426 - mrcnn_bbox_loss: 0.2232 - mrcnn_mask_loss: 0.3398 - val_loss: 1.5153 - val_rpn_class_loss: 0.0152 - val_rpn_bbox_loss: 0.7047 - val_mrcnn_class_loss: 0.1124 - val_mrcnn_bbox_loss: 0.3384 - val_mrcnn_mask_loss: 0.3446\n",
      "Epoch 5/50\n",
      "50/50 [==============================] - 31s 627ms/step - loss: 1.2041 - rpn_class_loss: 0.0201 - rpn_bbox_loss: 0.5172 - mrcnn_class_loss: 0.0397 - mrcnn_bbox_loss: 0.1880 - mrcnn_mask_loss: 0.4391 - val_loss: 1.5675 - val_rpn_class_loss: 0.0194 - val_rpn_bbox_loss: 0.8021 - val_mrcnn_class_loss: 0.1081 - val_mrcnn_bbox_loss: 0.2705 - val_mrcnn_mask_loss: 0.3674\n",
      "Epoch 6/50\n",
      "50/50 [==============================] - 33s 656ms/step - loss: 1.1758 - rpn_class_loss: 0.0159 - rpn_bbox_loss: 0.5649 - mrcnn_class_loss: 0.0388 - mrcnn_bbox_loss: 0.2370 - mrcnn_mask_loss: 0.3191 - val_loss: 1.3723 - val_rpn_class_loss: 0.0263 - val_rpn_bbox_loss: 0.6892 - val_mrcnn_class_loss: 0.0730 - val_mrcnn_bbox_loss: 0.2521 - val_mrcnn_mask_loss: 0.3317\n",
      "Epoch 7/50\n",
      "50/50 [==============================] - 32s 633ms/step - loss: 1.0836 - rpn_class_loss: 0.0166 - rpn_bbox_loss: 0.5941 - mrcnn_class_loss: 0.0256 - mrcnn_bbox_loss: 0.1817 - mrcnn_mask_loss: 0.2656 - val_loss: 1.4448 - val_rpn_class_loss: 0.0094 - val_rpn_bbox_loss: 0.7166 - val_mrcnn_class_loss: 0.0020 - val_mrcnn_bbox_loss: 0.4638 - val_mrcnn_mask_loss: 0.2531\n",
      "Epoch 8/50\n",
      "50/50 [==============================] - 32s 637ms/step - loss: 0.9181 - rpn_class_loss: 0.0120 - rpn_bbox_loss: 0.4566 - mrcnn_class_loss: 0.0285 - mrcnn_bbox_loss: 0.2035 - mrcnn_mask_loss: 0.2175 - val_loss: 1.4244 - val_rpn_class_loss: 0.0173 - val_rpn_bbox_loss: 0.8481 - val_mrcnn_class_loss: 0.0192 - val_mrcnn_bbox_loss: 0.3908 - val_mrcnn_mask_loss: 0.1491\n",
      "Epoch 9/50\n",
      "50/50 [==============================] - 30s 608ms/step - loss: 0.8509 - rpn_class_loss: 0.0146 - rpn_bbox_loss: 0.4294 - mrcnn_class_loss: 0.0424 - mrcnn_bbox_loss: 0.1723 - mrcnn_mask_loss: 0.1922 - val_loss: 1.1780 - val_rpn_class_loss: 0.0161 - val_rpn_bbox_loss: 0.5789 - val_mrcnn_class_loss: 0.0538 - val_mrcnn_bbox_loss: 0.3316 - val_mrcnn_mask_loss: 0.1975\n",
      "Epoch 10/50\n",
      "50/50 [==============================] - 32s 643ms/step - loss: 1.0236 - rpn_class_loss: 0.0087 - rpn_bbox_loss: 0.5480 - mrcnn_class_loss: 0.0728 - mrcnn_bbox_loss: 0.1728 - mrcnn_mask_loss: 0.2213 - val_loss: 0.9564 - val_rpn_class_loss: 0.0112 - val_rpn_bbox_loss: 0.4097 - val_mrcnn_class_loss: 0.1045 - val_mrcnn_bbox_loss: 0.2287 - val_mrcnn_mask_loss: 0.2022\n",
      "Epoch 11/50\n",
      "50/50 [==============================] - 33s 662ms/step - loss: 0.8041 - rpn_class_loss: 0.0104 - rpn_bbox_loss: 0.3322 - mrcnn_class_loss: 0.0643 - mrcnn_bbox_loss: 0.1748 - mrcnn_mask_loss: 0.2223 - val_loss: 3.5914 - val_rpn_class_loss: 0.0261 - val_rpn_bbox_loss: 2.5685 - val_mrcnn_class_loss: 0.0282 - val_mrcnn_bbox_loss: 0.5553 - val_mrcnn_mask_loss: 0.4134\n",
      "Epoch 12/50\n",
      "50/50 [==============================] - 32s 649ms/step - loss: 1.0657 - rpn_class_loss: 0.0162 - rpn_bbox_loss: 0.6846 - mrcnn_class_loss: 0.0261 - mrcnn_bbox_loss: 0.1322 - mrcnn_mask_loss: 0.2067 - val_loss: 1.4014 - val_rpn_class_loss: 0.0257 - val_rpn_bbox_loss: 0.6293 - val_mrcnn_class_loss: 0.0392 - val_mrcnn_bbox_loss: 0.4140 - val_mrcnn_mask_loss: 0.2930\n",
      "Epoch 13/50\n",
      "50/50 [==============================] - 33s 654ms/step - loss: 0.9671 - rpn_class_loss: 0.0119 - rpn_bbox_loss: 0.5211 - mrcnn_class_loss: 0.0448 - mrcnn_bbox_loss: 0.1760 - mrcnn_mask_loss: 0.2131 - val_loss: 0.9678 - val_rpn_class_loss: 0.0102 - val_rpn_bbox_loss: 0.6220 - val_mrcnn_class_loss: 0.0259 - val_mrcnn_bbox_loss: 0.1628 - val_mrcnn_mask_loss: 0.1470\n",
      "Epoch 14/50\n",
      "50/50 [==============================] - 33s 655ms/step - loss: 0.9855 - rpn_class_loss: 0.0119 - rpn_bbox_loss: 0.6009 - mrcnn_class_loss: 0.0460 - mrcnn_bbox_loss: 0.1435 - mrcnn_mask_loss: 0.1830 - val_loss: 1.2739 - val_rpn_class_loss: 0.0163 - val_rpn_bbox_loss: 0.7229 - val_mrcnn_class_loss: 0.0553 - val_mrcnn_bbox_loss: 0.1847 - val_mrcnn_mask_loss: 0.2947\n",
      "Epoch 15/50\n",
      "50/50 [==============================] - 33s 664ms/step - loss: 0.8248 - rpn_class_loss: 0.0143 - rpn_bbox_loss: 0.4894 - mrcnn_class_loss: 0.0387 - mrcnn_bbox_loss: 0.1233 - mrcnn_mask_loss: 0.1590 - val_loss: 1.1371 - val_rpn_class_loss: 0.0142 - val_rpn_bbox_loss: 0.6885 - val_mrcnn_class_loss: 0.0338 - val_mrcnn_bbox_loss: 0.2085 - val_mrcnn_mask_loss: 0.1922\n",
      "Epoch 16/50\n",
      "50/50 [==============================] - 34s 683ms/step - loss: 0.9747 - rpn_class_loss: 0.0174 - rpn_bbox_loss: 0.4858 - mrcnn_class_loss: 0.0323 - mrcnn_bbox_loss: 0.2314 - mrcnn_mask_loss: 0.2077 - val_loss: 1.3913 - val_rpn_class_loss: 0.0143 - val_rpn_bbox_loss: 0.8123 - val_mrcnn_class_loss: 0.0811 - val_mrcnn_bbox_loss: 0.2768 - val_mrcnn_mask_loss: 0.2069\n",
      "Epoch 17/50\n",
      "50/50 [==============================] - 33s 658ms/step - loss: 0.9311 - rpn_class_loss: 0.0135 - rpn_bbox_loss: 0.5278 - mrcnn_class_loss: 0.0810 - mrcnn_bbox_loss: 0.1328 - mrcnn_mask_loss: 0.1761 - val_loss: 1.1120 - val_rpn_class_loss: 0.0174 - val_rpn_bbox_loss: 0.4591 - val_mrcnn_class_loss: 0.1246 - val_mrcnn_bbox_loss: 0.2597 - val_mrcnn_mask_loss: 0.2512\n",
      "Epoch 18/50\n",
      "50/50 [==============================] - 36s 719ms/step - loss: 0.9906 - rpn_class_loss: 0.0130 - rpn_bbox_loss: 0.5632 - mrcnn_class_loss: 0.0592 - mrcnn_bbox_loss: 0.1578 - mrcnn_mask_loss: 0.1973 - val_loss: 1.0112 - val_rpn_class_loss: 0.0089 - val_rpn_bbox_loss: 0.5209 - val_mrcnn_class_loss: 0.0250 - val_mrcnn_bbox_loss: 0.1765 - val_mrcnn_mask_loss: 0.2799\n",
      "Epoch 19/50\n",
      "50/50 [==============================] - 34s 682ms/step - loss: 0.7387 - rpn_class_loss: 0.0134 - rpn_bbox_loss: 0.4190 - mrcnn_class_loss: 0.0269 - mrcnn_bbox_loss: 0.1145 - mrcnn_mask_loss: 0.1649 - val_loss: 0.9900 - val_rpn_class_loss: 0.0100 - val_rpn_bbox_loss: 0.5868 - val_mrcnn_class_loss: 0.0186 - val_mrcnn_bbox_loss: 0.1387 - val_mrcnn_mask_loss: 0.2360\n",
      "Epoch 20/50\n",
      "50/50 [==============================] - 32s 639ms/step - loss: 0.7415 - rpn_class_loss: 0.0100 - rpn_bbox_loss: 0.3805 - mrcnn_class_loss: 0.0607 - mrcnn_bbox_loss: 0.1268 - mrcnn_mask_loss: 0.1634 - val_loss: 0.7809 - val_rpn_class_loss: 0.0144 - val_rpn_bbox_loss: 0.2906 - val_mrcnn_class_loss: 0.0310 - val_mrcnn_bbox_loss: 0.1987 - val_mrcnn_mask_loss: 0.2462\n",
      "Epoch 21/50\n",
      "50/50 [==============================] - 33s 664ms/step - loss: 0.7526 - rpn_class_loss: 0.0142 - rpn_bbox_loss: 0.3732 - mrcnn_class_loss: 0.0490 - mrcnn_bbox_loss: 0.1504 - mrcnn_mask_loss: 0.1658 - val_loss: 0.8358 - val_rpn_class_loss: 0.0092 - val_rpn_bbox_loss: 0.4532 - val_mrcnn_class_loss: 0.0028 - val_mrcnn_bbox_loss: 0.1626 - val_mrcnn_mask_loss: 0.2080\n",
      "Epoch 22/50\n",
      "50/50 [==============================] - 35s 701ms/step - loss: 0.8432 - rpn_class_loss: 0.0169 - rpn_bbox_loss: 0.4374 - mrcnn_class_loss: 0.0324 - mrcnn_bbox_loss: 0.1455 - mrcnn_mask_loss: 0.2110 - val_loss: 0.8577 - val_rpn_class_loss: 0.0079 - val_rpn_bbox_loss: 0.5787 - val_mrcnn_class_loss: 0.0073 - val_mrcnn_bbox_loss: 0.1017 - val_mrcnn_mask_loss: 0.1620\n",
      "Epoch 23/50\n",
      "50/50 [==============================] - 33s 658ms/step - loss: 0.7613 - rpn_class_loss: 0.0098 - rpn_bbox_loss: 0.3986 - mrcnn_class_loss: 0.0370 - mrcnn_bbox_loss: 0.1496 - mrcnn_mask_loss: 0.1662 - val_loss: 0.7850 - val_rpn_class_loss: 0.0107 - val_rpn_bbox_loss: 0.3796 - val_mrcnn_class_loss: 0.0339 - val_mrcnn_bbox_loss: 0.2059 - val_mrcnn_mask_loss: 0.1548\n",
      "Epoch 24/50\n",
      "50/50 [==============================] - 33s 661ms/step - loss: 0.6658 - rpn_class_loss: 0.0129 - rpn_bbox_loss: 0.3692 - mrcnn_class_loss: 0.0207 - mrcnn_bbox_loss: 0.1031 - mrcnn_mask_loss: 0.1599 - val_loss: 0.9166 - val_rpn_class_loss: 0.0100 - val_rpn_bbox_loss: 0.5662 - val_mrcnn_class_loss: 0.0063 - val_mrcnn_bbox_loss: 0.0905 - val_mrcnn_mask_loss: 0.2437\n",
      "Epoch 25/50\n",
      "50/50 [==============================] - 34s 671ms/step - loss: 0.8095 - rpn_class_loss: 0.0149 - rpn_bbox_loss: 0.5017 - mrcnn_class_loss: 0.0496 - mrcnn_bbox_loss: 0.0813 - mrcnn_mask_loss: 0.1621 - val_loss: 1.2540 - val_rpn_class_loss: 0.0051 - val_rpn_bbox_loss: 0.8020 - val_mrcnn_class_loss: 0.0336 - val_mrcnn_bbox_loss: 0.1647 - val_mrcnn_mask_loss: 0.2487\n",
      "Epoch 26/50\n",
      "50/50 [==============================] - 34s 674ms/step - loss: 0.6864 - rpn_class_loss: 0.0087 - rpn_bbox_loss: 0.3404 - mrcnn_class_loss: 0.0384 - mrcnn_bbox_loss: 0.1280 - mrcnn_mask_loss: 0.1709 - val_loss: 0.9576 - val_rpn_class_loss: 0.0111 - val_rpn_bbox_loss: 0.5143 - val_mrcnn_class_loss: 0.0386 - val_mrcnn_bbox_loss: 0.1697 - val_mrcnn_mask_loss: 0.2240\n",
      "Epoch 27/50\n",
      "50/50 [==============================] - 34s 676ms/step - loss: 0.8523 - rpn_class_loss: 0.0177 - rpn_bbox_loss: 0.4374 - mrcnn_class_loss: 0.0620 - mrcnn_bbox_loss: 0.1258 - mrcnn_mask_loss: 0.2094 - val_loss: 0.9856 - val_rpn_class_loss: 0.0183 - val_rpn_bbox_loss: 0.5802 - val_mrcnn_class_loss: 0.0232 - val_mrcnn_bbox_loss: 0.1684 - val_mrcnn_mask_loss: 0.1955\n",
      "Epoch 28/50\n",
      "50/50 [==============================] - 33s 665ms/step - loss: 0.7437 - rpn_class_loss: 0.0139 - rpn_bbox_loss: 0.3869 - mrcnn_class_loss: 0.0421 - mrcnn_bbox_loss: 0.1306 - mrcnn_mask_loss: 0.1703 - val_loss: 0.8788 - val_rpn_class_loss: 0.0055 - val_rpn_bbox_loss: 0.4578 - val_mrcnn_class_loss: 0.0759 - val_mrcnn_bbox_loss: 0.1896 - val_mrcnn_mask_loss: 0.1500\n",
      "Epoch 29/50\n",
      "50/50 [==============================] - 33s 664ms/step - loss: 0.6641 - rpn_class_loss: 0.0125 - rpn_bbox_loss: 0.3666 - mrcnn_class_loss: 0.0618 - mrcnn_bbox_loss: 0.0717 - mrcnn_mask_loss: 0.1515 - val_loss: 1.2376 - val_rpn_class_loss: 0.0096 - val_rpn_bbox_loss: 0.7253 - val_mrcnn_class_loss: 0.0900 - val_mrcnn_bbox_loss: 0.1768 - val_mrcnn_mask_loss: 0.2360\n",
      "Epoch 30/50\n",
      "50/50 [==============================] - 33s 655ms/step - loss: 0.5305 - rpn_class_loss: 0.0103 - rpn_bbox_loss: 0.2717 - mrcnn_class_loss: 0.0250 - mrcnn_bbox_loss: 0.0858 - mrcnn_mask_loss: 0.1376 - val_loss: 0.5782 - val_rpn_class_loss: 0.0146 - val_rpn_bbox_loss: 0.1060 - val_mrcnn_class_loss: 0.0561 - val_mrcnn_bbox_loss: 0.2242 - val_mrcnn_mask_loss: 0.1773\n",
      "Epoch 31/50\n",
      "50/50 [==============================] - 33s 661ms/step - loss: 0.6107 - rpn_class_loss: 0.0128 - rpn_bbox_loss: 0.3209 - mrcnn_class_loss: 0.0237 - mrcnn_bbox_loss: 0.0913 - mrcnn_mask_loss: 0.1620 - val_loss: 1.0684 - val_rpn_class_loss: 0.0081 - val_rpn_bbox_loss: 0.6970 - val_mrcnn_class_loss: 0.0139 - val_mrcnn_bbox_loss: 0.2216 - val_mrcnn_mask_loss: 0.1278\n",
      "Epoch 32/50\n",
      "50/50 [==============================] - 34s 677ms/step - loss: 0.6779 - rpn_class_loss: 0.0122 - rpn_bbox_loss: 0.3383 - mrcnn_class_loss: 0.0427 - mrcnn_bbox_loss: 0.1218 - mrcnn_mask_loss: 0.1629 - val_loss: 0.9730 - val_rpn_class_loss: 0.0141 - val_rpn_bbox_loss: 0.3881 - val_mrcnn_class_loss: 0.1079 - val_mrcnn_bbox_loss: 0.1425 - val_mrcnn_mask_loss: 0.3204\n",
      "Epoch 33/50\n",
      "50/50 [==============================] - 34s 670ms/step - loss: 0.5099 - rpn_class_loss: 0.0085 - rpn_bbox_loss: 0.2388 - mrcnn_class_loss: 0.0217 - mrcnn_bbox_loss: 0.1046 - mrcnn_mask_loss: 0.1363 - val_loss: 0.8117 - val_rpn_class_loss: 0.0067 - val_rpn_bbox_loss: 0.4346 - val_mrcnn_class_loss: 0.0875 - val_mrcnn_bbox_loss: 0.1013 - val_mrcnn_mask_loss: 0.1816\n",
      "Epoch 34/50\n",
      "50/50 [==============================] - 33s 665ms/step - loss: 0.5187 - rpn_class_loss: 0.0080 - rpn_bbox_loss: 0.2056 - mrcnn_class_loss: 0.0261 - mrcnn_bbox_loss: 0.1010 - mrcnn_mask_loss: 0.1780 - val_loss: 0.9894 - val_rpn_class_loss: 0.0072 - val_rpn_bbox_loss: 0.6238 - val_mrcnn_class_loss: 0.0108 - val_mrcnn_bbox_loss: 0.1539 - val_mrcnn_mask_loss: 0.1935\n",
      "Epoch 35/50\n",
      "50/50 [==============================] - 33s 663ms/step - loss: 0.4663 - rpn_class_loss: 0.0086 - rpn_bbox_loss: 0.1940 - mrcnn_class_loss: 0.0355 - mrcnn_bbox_loss: 0.0913 - mrcnn_mask_loss: 0.1369 - val_loss: 0.7886 - val_rpn_class_loss: 0.0122 - val_rpn_bbox_loss: 0.5112 - val_mrcnn_class_loss: 0.0132 - val_mrcnn_bbox_loss: 0.0893 - val_mrcnn_mask_loss: 0.1627\n",
      "Epoch 36/50\n",
      "50/50 [==============================] - 34s 674ms/step - loss: 0.5016 - rpn_class_loss: 0.0084 - rpn_bbox_loss: 0.2044 - mrcnn_class_loss: 0.0654 - mrcnn_bbox_loss: 0.0722 - mrcnn_mask_loss: 0.1512 - val_loss: 0.7997 - val_rpn_class_loss: 0.0114 - val_rpn_bbox_loss: 0.4152 - val_mrcnn_class_loss: 0.0363 - val_mrcnn_bbox_loss: 0.1518 - val_mrcnn_mask_loss: 0.1850\n",
      "Epoch 37/50\n",
      "50/50 [==============================] - 34s 674ms/step - loss: 0.5879 - rpn_class_loss: 0.0113 - rpn_bbox_loss: 0.2687 - mrcnn_class_loss: 0.0325 - mrcnn_bbox_loss: 0.1050 - mrcnn_mask_loss: 0.1704 - val_loss: 0.4812 - val_rpn_class_loss: 0.0027 - val_rpn_bbox_loss: 0.0886 - val_mrcnn_class_loss: 0.0948 - val_mrcnn_bbox_loss: 0.1227 - val_mrcnn_mask_loss: 0.1724\n",
      "Epoch 38/50\n",
      "50/50 [==============================] - 33s 652ms/step - loss: 0.5808 - rpn_class_loss: 0.0093 - rpn_bbox_loss: 0.2617 - mrcnn_class_loss: 0.0421 - mrcnn_bbox_loss: 0.1065 - mrcnn_mask_loss: 0.1612 - val_loss: 1.5786 - val_rpn_class_loss: 0.0082 - val_rpn_bbox_loss: 0.8140 - val_mrcnn_class_loss: 0.4038 - val_mrcnn_bbox_loss: 0.2236 - val_mrcnn_mask_loss: 0.1289\n",
      "Epoch 39/50\n",
      "50/50 [==============================] - 31s 628ms/step - loss: 0.5086 - rpn_class_loss: 0.0073 - rpn_bbox_loss: 0.1683 - mrcnn_class_loss: 0.0612 - mrcnn_bbox_loss: 0.1226 - mrcnn_mask_loss: 0.1492 - val_loss: 1.0686 - val_rpn_class_loss: 0.0063 - val_rpn_bbox_loss: 0.5805 - val_mrcnn_class_loss: 0.1328 - val_mrcnn_bbox_loss: 0.1675 - val_mrcnn_mask_loss: 0.1815\n",
      "Epoch 40/50\n",
      "50/50 [==============================] - 31s 627ms/step - loss: 0.5313 - rpn_class_loss: 0.0110 - rpn_bbox_loss: 0.2644 - mrcnn_class_loss: 0.0385 - mrcnn_bbox_loss: 0.0664 - mrcnn_mask_loss: 0.1510 - val_loss: 0.6062 - val_rpn_class_loss: 0.0037 - val_rpn_bbox_loss: 0.3833 - val_mrcnn_class_loss: 0.0155 - val_mrcnn_bbox_loss: 0.0670 - val_mrcnn_mask_loss: 0.1367\n",
      "Epoch 41/50\n",
      "50/50 [==============================] - 33s 659ms/step - loss: 0.5273 - rpn_class_loss: 0.0091 - rpn_bbox_loss: 0.2155 - mrcnn_class_loss: 0.0412 - mrcnn_bbox_loss: 0.1131 - mrcnn_mask_loss: 0.1485 - val_loss: 0.9857 - val_rpn_class_loss: 0.0051 - val_rpn_bbox_loss: 0.6867 - val_mrcnn_class_loss: 0.0449 - val_mrcnn_bbox_loss: 0.1062 - val_mrcnn_mask_loss: 0.1427\n",
      "Epoch 42/50\n",
      "50/50 [==============================] - 33s 655ms/step - loss: 0.5280 - rpn_class_loss: 0.0103 - rpn_bbox_loss: 0.2633 - mrcnn_class_loss: 0.0369 - mrcnn_bbox_loss: 0.0670 - mrcnn_mask_loss: 0.1506 - val_loss: 1.3616 - val_rpn_class_loss: 0.0327 - val_rpn_bbox_loss: 1.0616 - val_mrcnn_class_loss: 0.0269 - val_mrcnn_bbox_loss: 0.1111 - val_mrcnn_mask_loss: 0.1294\n",
      "Epoch 43/50\n",
      "50/50 [==============================] - 34s 676ms/step - loss: 0.5386 - rpn_class_loss: 0.0114 - rpn_bbox_loss: 0.2349 - mrcnn_class_loss: 0.0466 - mrcnn_bbox_loss: 0.1105 - mrcnn_mask_loss: 0.1352 - val_loss: 1.0406 - val_rpn_class_loss: 0.0115 - val_rpn_bbox_loss: 0.2693 - val_mrcnn_class_loss: 0.0879 - val_mrcnn_bbox_loss: 0.3130 - val_mrcnn_mask_loss: 0.3589\n",
      "Epoch 44/50\n",
      "50/50 [==============================] - 35s 706ms/step - loss: 0.5267 - rpn_class_loss: 0.0083 - rpn_bbox_loss: 0.2056 - mrcnn_class_loss: 0.0424 - mrcnn_bbox_loss: 0.0949 - mrcnn_mask_loss: 0.1755 - val_loss: 0.6450 - val_rpn_class_loss: 0.0091 - val_rpn_bbox_loss: 0.2131 - val_mrcnn_class_loss: 0.0176 - val_mrcnn_bbox_loss: 0.2218 - val_mrcnn_mask_loss: 0.1834\n",
      "Epoch 45/50\n",
      "50/50 [==============================] - 39s 782ms/step - loss: 0.5541 - rpn_class_loss: 0.0111 - rpn_bbox_loss: 0.2744 - mrcnn_class_loss: 0.0386 - mrcnn_bbox_loss: 0.0812 - mrcnn_mask_loss: 0.1488 - val_loss: 1.1043 - val_rpn_class_loss: 0.0104 - val_rpn_bbox_loss: 0.3476 - val_mrcnn_class_loss: 0.0897 - val_mrcnn_bbox_loss: 0.3340 - val_mrcnn_mask_loss: 0.3226\n",
      "Epoch 46/50\n",
      "50/50 [==============================] - 32s 649ms/step - loss: 0.4966 - rpn_class_loss: 0.0164 - rpn_bbox_loss: 0.2024 - mrcnn_class_loss: 0.0317 - mrcnn_bbox_loss: 0.0925 - mrcnn_mask_loss: 0.1536 - val_loss: 0.7521 - val_rpn_class_loss: 0.0175 - val_rpn_bbox_loss: 0.3457 - val_mrcnn_class_loss: 0.0351 - val_mrcnn_bbox_loss: 0.2000 - val_mrcnn_mask_loss: 0.1537\n",
      "Epoch 47/50\n",
      "50/50 [==============================] - 35s 708ms/step - loss: 0.4430 - rpn_class_loss: 0.0063 - rpn_bbox_loss: 0.1752 - mrcnn_class_loss: 0.0350 - mrcnn_bbox_loss: 0.0845 - mrcnn_mask_loss: 0.1420 - val_loss: 1.0256 - val_rpn_class_loss: 0.0182 - val_rpn_bbox_loss: 0.6128 - val_mrcnn_class_loss: 0.1406 - val_mrcnn_bbox_loss: 0.1192 - val_mrcnn_mask_loss: 0.1348\n",
      "Epoch 48/50\n",
      "50/50 [==============================] - 34s 690ms/step - loss: 0.4131 - rpn_class_loss: 0.0045 - rpn_bbox_loss: 0.1494 - mrcnn_class_loss: 0.0340 - mrcnn_bbox_loss: 0.0790 - mrcnn_mask_loss: 0.1461 - val_loss: 1.6007 - val_rpn_class_loss: 0.0163 - val_rpn_bbox_loss: 1.1491 - val_mrcnn_class_loss: 0.0577 - val_mrcnn_bbox_loss: 0.1596 - val_mrcnn_mask_loss: 0.2181\n",
      "Epoch 49/50\n",
      "50/50 [==============================] - 32s 647ms/step - loss: 0.4665 - rpn_class_loss: 0.0114 - rpn_bbox_loss: 0.1986 - mrcnn_class_loss: 0.0242 - mrcnn_bbox_loss: 0.0777 - mrcnn_mask_loss: 0.1547 - val_loss: 0.6317 - val_rpn_class_loss: 0.0061 - val_rpn_bbox_loss: 0.3042 - val_mrcnn_class_loss: 0.0493 - val_mrcnn_bbox_loss: 0.0960 - val_mrcnn_mask_loss: 0.1761\n",
      "Epoch 50/50\n",
      "50/50 [==============================] - 33s 658ms/step - loss: 0.4245 - rpn_class_loss: 0.0081 - rpn_bbox_loss: 0.1827 - mrcnn_class_loss: 0.0303 - mrcnn_bbox_loss: 0.0683 - mrcnn_mask_loss: 0.1352 - val_loss: 0.6966 - val_rpn_class_loss: 0.0122 - val_rpn_bbox_loss: 0.3828 - val_mrcnn_class_loss: 0.0093 - val_mrcnn_bbox_loss: 0.1142 - val_mrcnn_mask_loss: 0.1782\n"
     ]
    }
   ],
   "source": [
    "Cell.train(model, 50, \"/home/ubuntu/github/Peyton2020MaskRCNN/main/dataset\")"
   ]
  },
  {
   "cell_type": "code",
   "execution_count": null,
   "metadata": {},
   "outputs": [],
   "source": []
  }
 ],
 "metadata": {
  "kernelspec": {
   "display_name": "Python 3",
   "language": "python",
   "name": "python3"
  },
  "language_info": {
   "codemirror_mode": {
    "name": "ipython",
    "version": 3
   },
   "file_extension": ".py",
   "mimetype": "text/x-python",
   "name": "python",
   "nbconvert_exporter": "python",
   "pygments_lexer": "ipython3",
   "version": "3.7.3"
  }
 },
 "nbformat": 4,
 "nbformat_minor": 4
}
